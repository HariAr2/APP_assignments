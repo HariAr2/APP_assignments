{
 "cells": [
  {
   "cell_type": "code",
   "execution_count": 11,
   "id": "8040e254",
   "metadata": {},
   "outputs": [
    {
     "name": "stdout",
     "output_type": "stream",
     "text": [
      "Number of elements: 5\n",
      "9\n",
      "8\n",
      "5\n",
      "10\n",
      "1\n",
      "10 9\n"
     ]
    }
   ],
   "source": [
    "'''1. Implement a python program to find the first largest and second largest numbers in an\n",
    "Array. Note: should not use any built-in sorting functions or libraries.'''\n",
    "\n",
    "def large(a):\n",
    "    for i in range(0,len(a)):\n",
    "        for j in range (i+1,len(a)):\n",
    "            if(a[i]>=a[j]):\n",
    "                a[i],a[j]=a[j],a[i]#sorts in ascending order small to big\n",
    "    print(a[-1],a[-2])#print the last two elements\n",
    "n=int(input(\"Number of elements: \"))\n",
    "arr=[]\n",
    "for i in range (0,n):\n",
    "    item=int(input())\n",
    "    arr.append(item)\n",
    "large(arr)"
   ]
  },
  {
   "cell_type": "code",
   "execution_count": null,
   "id": "aa4009fe",
   "metadata": {},
   "outputs": [],
   "source": []
  },
  {
   "cell_type": "markdown",
   "id": "e5f5709c",
   "metadata": {},
   "source": []
  },
  {
   "cell_type": "code",
   "execution_count": 12,
   "id": "cbf4cb0d",
   "metadata": {},
   "outputs": [
    {
     "name": "stdout",
     "output_type": "stream",
     "text": [
      "Number of elements: 4\n",
      "2\n",
      "3\n",
      "7\n",
      "9\n",
      "Sum of even numbers:  2\n",
      "Sum of odd numbers:  19\n"
     ]
    }
   ],
   "source": [
    "'''2. Write a Python program to calculate the sum of even numbers and the sum of odd\n",
    "numbers in an array.'''\n",
    "def sum(arr):\n",
    "    oddsum=0\n",
    "    evensum=0\n",
    "    for i in range (0,len(arr)):\n",
    "        if(arr[i]%2==0):\n",
    "            evensum+=arr[i]\n",
    "        else:\n",
    "            oddsum+=arr[i]\n",
    "    print(\"Sum of even numbers: \",evensum)\n",
    "    print(\"Sum of odd numbers: \",oddsum)\n",
    "n=int(input(\"Number of elements: \"))\n",
    "arr=[]\n",
    "for i in range(0,n):\n",
    "    item=int(input())\n",
    "    arr.append(item)\n",
    "sum(arr)"
   ]
  },
  {
   "cell_type": "code",
   "execution_count": 18,
   "id": "c57c21bd",
   "metadata": {},
   "outputs": [
    {
     "name": "stdout",
     "output_type": "stream",
     "text": [
      "Number of elements: 3\n",
      "1\n",
      "1\n",
      "1\n",
      "Key = 1\n",
      "Number of occurences =  3\n"
     ]
    }
   ],
   "source": [
    "'''3. Write a python program to count the Occurrences of a Specific Element in an Array.'''\n",
    "def occ(arr,n):\n",
    "    count=0\n",
    "    for i in range (0,len(arr)):\n",
    "        if(arr[i]==n):\n",
    "            count+=1\n",
    "    print(\"Number of occurences = \",count)\n",
    "n=int(input(\"Number of elements: \"))\n",
    "arr=[]\n",
    "for i in range(0,n):\n",
    "    item=int(input())\n",
    "    arr.append(item)\n",
    "k=int(input(\"Key = \"))\n",
    "occ(arr,k)"
   ]
  },
  {
   "cell_type": "code",
   "execution_count": 24,
   "id": "766b56a6",
   "metadata": {},
   "outputs": [
    {
     "name": "stdout",
     "output_type": "stream",
     "text": [
      "string: hello hhh how are u imi\n",
      "number of palindrome =  3\n"
     ]
    }
   ],
   "source": [
    "'''4. Write a Python program that takes a sentence as input and identifies and prints all the\n",
    "palindromic words in the sentence. Use an array to store the palindromic words.'''\n",
    "\n",
    "def palindrome(string):\n",
    "    if(string.lower()==string[::-1].lower()):\n",
    "        return True\n",
    "def split(sentence):\n",
    "    count=0\n",
    "    words=sentence.split(\" \")\n",
    "    for i in words:\n",
    "        if(palindrome(i)):\n",
    "            count+=1\n",
    "    print(\"number of palindrome = \",count)\n",
    "\n",
    "string=input(\"string: \")\n",
    "split(string)"
   ]
  },
  {
   "cell_type": "code",
   "execution_count": 27,
   "id": "6325d3a5",
   "metadata": {},
   "outputs": [
    {
     "name": "stdout",
     "output_type": "stream",
     "text": [
      "Number of elements: 5\n",
      "1\n",
      "1\n",
      "2\n",
      "3\n",
      "4\n",
      "[1, 2, 3, 4]\n"
     ]
    }
   ],
   "source": [
    "'''5. Write a Python program that takes a list of numbers and removes all duplicates from the\n",
    "list, preserving the original order of elements.'''\n",
    "\n",
    "def original(arr):\n",
    "    new=[]\n",
    "    new=list(set(arr))\n",
    "    print(new)\n",
    "n=int(input(\"Number of elements: \"))\n",
    "arr=[]\n",
    "for i in range (0,n):\n",
    "    item=int(input())\n",
    "    arr.append(item)\n",
    "original(arr)"
   ]
  },
  {
   "cell_type": "code",
   "execution_count": null,
   "id": "7e5a543b",
   "metadata": {},
   "outputs": [],
   "source": [
    "''''''"
   ]
  }
 ],
 "metadata": {
  "kernelspec": {
   "display_name": "Python 3 (ipykernel)",
   "language": "python",
   "name": "python3"
  },
  "language_info": {
   "codemirror_mode": {
    "name": "ipython",
    "version": 3
   },
   "file_extension": ".py",
   "mimetype": "text/x-python",
   "name": "python",
   "nbconvert_exporter": "python",
   "pygments_lexer": "ipython3",
   "version": "3.11.5"
  }
 },
 "nbformat": 4,
 "nbformat_minor": 5
}
