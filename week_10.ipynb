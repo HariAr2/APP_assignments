{
 "cells": [
  {
   "cell_type": "code",
   "execution_count": 6,
   "id": "a2c16a1c",
   "metadata": {},
   "outputs": [
    {
     "name": "stdout",
     "output_type": "stream",
     "text": [
      "Enter number 1:50\n",
      "enter number 2:20\n",
      "enter number 3:1350\n",
      "sum of three numbers:\n",
      "\n",
      "1420\n",
      "sum of two number:\n",
      "\n",
      "70\n"
     ]
    }
   ],
   "source": [
    "\"\"\"1. Write a python program to calculate the sum of Two numbers and Three numbers.\n",
    "However, if the sum is between 120 to 320 it will return 200.\"\"\"\n",
    "def two_sum(x,y):\n",
    "    z=x+y\n",
    "    if(z>=120 and z<320):\n",
    "        z=200\n",
    "    return z\n",
    "def three_sum(x,y,z):\n",
    "    a=x+y+z\n",
    "    if(a>=120 and a<320):\n",
    "        a=200\n",
    "    return a\n",
    "num1=int(input(\"Enter number 1:\"))\n",
    "num2=int(input(\"enter number 2:\"))\n",
    "num3=int(input(\"enter number 3:\"))\n",
    "print(\"sum of three numbers:\\n\")\n",
    "print(three_sum(num1,num2,num3))\n",
    "print(\"sum of two number:\\n\")\n",
    "print(two_sum(num1,num2))\n",
    "\n",
    "\n",
    "    "
   ]
  },
  {
   "cell_type": "code",
   "execution_count": 11,
   "id": "de78d88d",
   "metadata": {},
   "outputs": [
    {
     "name": "stdout",
     "output_type": "stream",
     "text": [
      "Number 1:100\n",
      "Number 2:100\n",
      "Number 3:100\n",
      "All values are equal\n",
      "Greatest is: 100\n"
     ]
    }
   ],
   "source": [
    "\"\"\"\"2. Implement a python function to find the Maximum of Three numbers.\"\"\"\n",
    "def greatest(x,y,z):\n",
    "    if(x>y and x>z):\n",
    "        return x\n",
    "    elif(y>x and y>z):\n",
    "        return y\n",
    "    elif(x==y and x==z and z==y):\n",
    "        print(\"All values are equal\")\n",
    "        return x\n",
    "    else:\n",
    "        return z\n",
    "num1=int(input(\"Number 1:\"))\n",
    "num2=int(input(\"Number 2:\"))\n",
    "num3=int(input(\"Number 3:\"))\n",
    "print(\"Greatest is:\",greatest(num1,num2,num3))"
   ]
  },
  {
   "cell_type": "code",
   "execution_count": 16,
   "id": "649d904e",
   "metadata": {},
   "outputs": [
    {
     "name": "stdout",
     "output_type": "stream",
     "text": [
      "Enter a number:5\n",
      "120\n"
     ]
    }
   ],
   "source": [
    "#3. Write a python program to calculate the Factorial of a given number.\n",
    "def fact(x):\n",
    "    if(x==1 or x==0):\n",
    "        return x\n",
    "    else:\n",
    "        for i in range(2,x):\n",
    "            x*=i\n",
    "        return x\n",
    "a=int(input(\"Enter a number:\"))\n",
    "print(fact(a))\n"
   ]
  },
  {
   "cell_type": "code",
   "execution_count": 21,
   "id": "273e3f64",
   "metadata": {},
   "outputs": [
    {
     "name": "stdout",
     "output_type": "stream",
     "text": [
      "Number:80\n",
      "80 is even\n",
      "80 not a prime\n"
     ]
    }
   ],
   "source": [
    "\"\"\"4. Write a python program to Check if a Number is Even or Odd and also check whether\n",
    "it is Prime or not.\"\"\"\n",
    "def primes(x):\n",
    "    if(x%2==0):\n",
    "        print(x,\"is even\")\n",
    "    else:\n",
    "        print(x,\"is odd\")\n",
    "    counter=0\n",
    "    for i in range(2,x):\n",
    "        if(x%i==0):\n",
    "            counter=1\n",
    "    if(counter==1):\n",
    "        print(x,\"not a prime\")\n",
    "    elif(counter==0):\n",
    "        print(x,\"is a prime\")\n",
    "a=int(input(\"Number:\"))\n",
    "primes(a)"
   ]
  },
  {
   "cell_type": "code",
   "execution_count": 24,
   "id": "5317071f",
   "metadata": {},
   "outputs": [
    {
     "name": "stdout",
     "output_type": "stream",
     "text": [
      "String:hhh\n",
      "hhh is a palindrome\n"
     ]
    }
   ],
   "source": [
    "\"\"\"5. Implement a python function to Reverse a given String and also check for palindrome\n",
    "or not.\"\"\"\n",
    "def palindrome(a):\n",
    "    if(a.lower()==a[::-1].lower()):\n",
    "        print(a,\"is a palindrome\")\n",
    "    else:\n",
    "        print(a,\"is not a palindrome\")\n",
    "x=input(\"String:\")\n",
    "palindrome(x)"
   ]
  },
  {
   "cell_type": "code",
   "execution_count": 27,
   "id": "2c187abf",
   "metadata": {},
   "outputs": [
    {
     "name": "stdout",
     "output_type": "stream",
     "text": [
      "Number:7\n",
      "0\n",
      "1\n",
      "1\n",
      "2\n",
      "3\n",
      "5\n",
      "8\n"
     ]
    }
   ],
   "source": [
    "\"\"\"6. Write a python program to Generate Fibonacci Sequence.\"\"\"\n",
    "def fibonacci(x):\n",
    "    a=0\n",
    "    b=1\n",
    "    if(x==0):\n",
    "        print(a)\n",
    "    elif(x==1):\n",
    "        print(b)\n",
    "    else:\n",
    "        print(a)\n",
    "        print(b)\n",
    "        for i in range (2,x):\n",
    "            c=a+b\n",
    "            a=b\n",
    "            b=c\n",
    "            print(c)\n",
    "y=int(input(\"Number:\"))\n",
    "fibonacci(y)"
   ]
  },
  {
   "cell_type": "code",
   "execution_count": 32,
   "id": "8bf4e158",
   "metadata": {},
   "outputs": [
    {
     "name": "stdout",
     "output_type": "stream",
     "text": [
      "Radius of Circle:\n",
      "5\n",
      "enter Triangle sides:\n",
      "5\n",
      "6\n",
      "7\n",
      "L of rectangle:5\n",
      "B of rectangle6\n",
      "perimeter of circle: 31.400000000000002\n",
      "perimeter of triangle: 18\n",
      "perimeter of rectangle: 22\n"
     ]
    }
   ],
   "source": [
    "\"\"\"7. Write a python program to calculate the area and perimeter of different geometric\n",
    "shapes (circle, rectangle, triangle, etc.).\"\"\"\n",
    "def circle(r):\n",
    "    PI=3.14\n",
    "    print(\"perimeter of circle:\",2*PI*r)\n",
    "def triangle(a,b,c):\n",
    "    x=a+b+c\n",
    "    print(\"perimeter of triangle:\",x)\n",
    "def rectangle(l,b):\n",
    "    rect=2*(l+b)\n",
    "    print(\"perimeter of rectangle:\",rect)\n",
    "r=int(input(\"Radius of Circle:\\n\"))\n",
    "print(\"enter Triangle sides:\")\n",
    "num1=int(input())\n",
    "num2=int(input())\n",
    "num3=int(input())\n",
    "l=int(input(\"L of rectangle:\"))\n",
    "b=int(input(\"B of rectangle\"))\n",
    "circle(r)\n",
    "triangle(num1,num2,num3)\n",
    "rectangle(l,b)"
   ]
  },
  {
   "cell_type": "code",
   "execution_count": 34,
   "id": "a546b191",
   "metadata": {},
   "outputs": [
    {
     "name": "stdout",
     "output_type": "stream",
     "text": [
      "Celsius:45\n",
      "Farenheit:98\n",
      "45 C = 113.0 F\n",
      "98 F = 36.66666666666667 C\n"
     ]
    }
   ],
   "source": [
    "\"\"\"8. Implement a python function to Convert Celsius to Fahrenheit and Fahrenheit to\n",
    "Celsius.\"\"\"\n",
    "def c_f(x):\n",
    "    f=c*(9/5)+32\n",
    "    print(x,\"C =\",f,\"F\")\n",
    "def f_c(y):\n",
    "    c=(f-32)*(5/9)\n",
    "    print(y,\"F =\",c,\"C\")\n",
    "c=int(input(\"Celsius:\"))\n",
    "f=int(input(\"Farenheit:\"))\n",
    "c_f(c)\n",
    "f_c(f)"
   ]
  },
  {
   "cell_type": "code",
   "execution_count": 41,
   "id": "f12b495f",
   "metadata": {},
   "outputs": [
    {
     "name": "stdout",
     "output_type": "stream",
     "text": [
      "String:hhh\n",
      "Number of lower case letters: 3\n",
      "Number of upper case letters: 0\n",
      "Number of spaces: 0\n"
     ]
    }
   ],
   "source": [
    "\"\"\"9. Write a Python program that accepts a string and counts the number of upper and\n",
    "lower case letters.\"\"\"\n",
    "def count(s):\n",
    "    low=0\n",
    "    up=0\n",
    "    spaces=0\n",
    "    for i in s:\n",
    "        if(i.islower()==True):\n",
    "            low+=1\n",
    "        elif(i.isupper()==True):\n",
    "            up+=1\n",
    "        elif(i.isspace()==True):\n",
    "            spaces+=1\n",
    "        \n",
    "    print(\"Number of lower case letters:\",low)\n",
    "    print(\"Number of upper case letters:\",up)\n",
    "    print(\"Number of spaces:\",spaces)\n",
    "s=input(\"String:\")\n",
    "count(s)"
   ]
  },
  {
   "cell_type": "code",
   "execution_count": 46,
   "id": "93661bfd",
   "metadata": {},
   "outputs": [
    {
     "name": "stdout",
     "output_type": "stream",
     "text": [
      "number1:1+2j\n",
      "number2:2+3j\n",
      "sum= (3+5j) \n",
      " difference= (-1-1j) \n",
      " Multiplication= (-4+7j) \n",
      " Division= (0.6153846153846154+0.07692307692307691j)\n"
     ]
    }
   ],
   "source": [
    "\"\"\"10. Write a python program to perform Arithmetic operations on Complex Numbers.\"\"\"\n",
    "def opp(x,y):\n",
    "    add=x+y\n",
    "    sub=x-y\n",
    "    mul=x*y\n",
    "    div=x/y\n",
    "    print(\"sum=\",add,\"\\n\",\"difference=\",sub,\"\\n\",\"Multiplication=\",mul,\"\\n\",\"Division=\",div)\n",
    "a=complex(input(\"number1:\"))\n",
    "b=complex(input(\"number2:\"))\n",
    "opp(a,b)\n"
   ]
  },
  {
   "cell_type": "code",
   "execution_count": null,
   "id": "d718b57a",
   "metadata": {},
   "outputs": [],
   "source": []
  }
 ],
 "metadata": {
  "kernelspec": {
   "display_name": "Python 3 (ipykernel)",
   "language": "python",
   "name": "python3"
  },
  "language_info": {
   "codemirror_mode": {
    "name": "ipython",
    "version": 3
   },
   "file_extension": ".py",
   "mimetype": "text/x-python",
   "name": "python",
   "nbconvert_exporter": "python",
   "pygments_lexer": "ipython3",
   "version": "3.10.6"
  }
 },
 "nbformat": 4,
 "nbformat_minor": 5
}
